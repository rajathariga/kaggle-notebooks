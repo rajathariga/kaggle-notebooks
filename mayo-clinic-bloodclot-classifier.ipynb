{
 "cells": [
  {
   "cell_type": "code",
   "execution_count": 1,
   "id": "1fa0d895",
   "metadata": {
    "execution": {
     "iopub.execute_input": "2022-08-14T10:03:32.912827Z",
     "iopub.status.busy": "2022-08-14T10:03:32.912326Z",
     "iopub.status.idle": "2022-08-14T10:03:39.005252Z",
     "shell.execute_reply": "2022-08-14T10:03:39.004172Z"
    },
    "papermill": {
     "duration": 6.104319,
     "end_time": "2022-08-14T10:03:39.008357",
     "exception": false,
     "start_time": "2022-08-14T10:03:32.904038",
     "status": "completed"
    },
    "tags": []
   },
   "outputs": [],
   "source": [
    "import numpy as np\n",
    "import os\n",
    "import pandas as pd\n",
    "import matplotlib.pyplot as plt\n",
    "import glob\n",
    "import PIL\n",
    "import gc\n",
    "from PIL import Image\n",
    "from sklearn.preprocessing import LabelEncoder\n",
    "from tensorflow.keras.utils import Sequence\n",
    "from sklearn.model_selection import train_test_split\n",
    "\n",
    "import tensorflow as tf\n",
    "from tensorflow import keras\n",
    "import keras.backend as K\n",
    "from keras.layers import Dense, Dropout, Flatten, Conv2D, MaxPool2D\n",
    "from keras.models import Sequential"
   ]
  },
  {
   "cell_type": "code",
   "execution_count": 2,
   "id": "6d5d5827",
   "metadata": {
    "execution": {
     "iopub.execute_input": "2022-08-14T10:03:39.021826Z",
     "iopub.status.busy": "2022-08-14T10:03:39.020597Z",
     "iopub.status.idle": "2022-08-14T10:04:20.606931Z",
     "shell.execute_reply": "2022-08-14T10:04:20.605610Z"
    },
    "papermill": {
     "duration": 41.595647,
     "end_time": "2022-08-14T10:04:20.609980",
     "exception": false,
     "start_time": "2022-08-14T10:03:39.014333",
     "status": "completed"
    },
    "tags": []
   },
   "outputs": [
    {
     "name": "stdout",
     "output_type": "stream",
     "text": [
      "\r\n",
      "Downloading and Extracting Packages\r\n",
      "######################################################################## | 100% \r\n",
      "######################################################################## | 100% \r\n",
      "######################################################################## | 100% \r\n",
      "######################################################################## | 100% \r\n",
      "######################################################################## | 100% \r\n",
      "######################################################################## | 100% \r\n",
      "######################################################################## | 100% \r\n",
      "######################################################################## | 100% \r\n",
      "######################################################################## | 100% \r\n",
      "######################################################################## | 100% \r\n",
      "######################################################################## | 100% \r\n",
      "######################################################################## | 100% \r\n",
      "######################################################################## | 100% \r\n",
      "######################################################################## | 100% \r\n",
      "######################################################################## | 100% \r\n",
      "######################################################################## | 100% \r\n",
      "######################################################################## | 100% \r\n",
      "######################################################################## | 100% \r\n",
      "######################################################################## | 100% \r\n",
      "######################################################################## | 100% \r\n",
      "######################################################################## | 100% \r\n",
      "Preparing transaction: - \b\b\\ \b\b| \b\b/ \b\b- \b\b\\ \b\b| \b\b/ \b\bdone\r\n",
      "Verifying transaction: \\ \b\b| \b\b/ \b\b- \b\b\\ \b\b| \b\b/ \b\b- \b\b\\ \b\b| \b\b/ \b\b- \b\b\\ \b\b| \b\b/ \b\b- \b\b\\ \b\b| \b\b/ \b\b- \b\b\\ \b\b| \b\b/ \b\b- \b\b\\ \b\b| \b\bdone\r\n",
      "Executing transaction: - \b\b\\ \b\b| \b\b/ \b\b- \b\b\\ \b\b| \b\b/ \b\b- \b\b\\ \b\b| \b\b/ \b\b- \b\b\\ \b\b| \b\b/ \b\b- \b\b\\ \b\b| \b\b/ \b\b- \b\b\\ \b\b| \b\b/ \b\b- \b\b\\ \b\b| \b\b/ \b\b- \b\b\\ \b\b| \b\b/ \b\b- \b\b\\ \b\b| \b\b/ \b\b- \b\b\\ \b\b| \b\b/ \b\b- \b\b\\ \b\b| \b\b/ \b\b- \b\b\\ \b\bdone\r\n"
     ]
    }
   ],
   "source": [
    "!conda install ../input/how-to-use-pyvips-offline/*.tar.bz2\n"
   ]
  },
  {
   "cell_type": "code",
   "execution_count": 3,
   "id": "882089e0",
   "metadata": {
    "execution": {
     "iopub.execute_input": "2022-08-14T10:04:20.631968Z",
     "iopub.status.busy": "2022-08-14T10:04:20.631659Z",
     "iopub.status.idle": "2022-08-14T10:04:20.787622Z",
     "shell.execute_reply": "2022-08-14T10:04:20.786382Z"
    },
    "papermill": {
     "duration": 0.169497,
     "end_time": "2022-08-14T10:04:20.789920",
     "exception": false,
     "start_time": "2022-08-14T10:04:20.620423",
     "status": "completed"
    },
    "tags": []
   },
   "outputs": [],
   "source": [
    "import pyvips"
   ]
  },
  {
   "cell_type": "code",
   "execution_count": 4,
   "id": "81e838f3",
   "metadata": {
    "execution": {
     "iopub.execute_input": "2022-08-14T10:04:20.812261Z",
     "iopub.status.busy": "2022-08-14T10:04:20.811559Z",
     "iopub.status.idle": "2022-08-14T10:04:20.816000Z",
     "shell.execute_reply": "2022-08-14T10:04:20.814947Z"
    },
    "papermill": {
     "duration": 0.017679,
     "end_time": "2022-08-14T10:04:20.818025",
     "exception": false,
     "start_time": "2022-08-14T10:04:20.800346",
     "status": "completed"
    },
    "tags": []
   },
   "outputs": [],
   "source": [
    "Image.MAX_IMAGE_PIXELS = None"
   ]
  },
  {
   "cell_type": "code",
   "execution_count": 5,
   "id": "7ee57b65",
   "metadata": {
    "execution": {
     "iopub.execute_input": "2022-08-14T10:04:20.840305Z",
     "iopub.status.busy": "2022-08-14T10:04:20.839902Z",
     "iopub.status.idle": "2022-08-14T10:04:20.879166Z",
     "shell.execute_reply": "2022-08-14T10:04:20.878314Z"
    },
    "papermill": {
     "duration": 0.052769,
     "end_time": "2022-08-14T10:04:20.881272",
     "exception": false,
     "start_time": "2022-08-14T10:04:20.828503",
     "status": "completed"
    },
    "tags": []
   },
   "outputs": [
    {
     "data": {
      "text/html": [
       "<div>\n",
       "<style scoped>\n",
       "    .dataframe tbody tr th:only-of-type {\n",
       "        vertical-align: middle;\n",
       "    }\n",
       "\n",
       "    .dataframe tbody tr th {\n",
       "        vertical-align: top;\n",
       "    }\n",
       "\n",
       "    .dataframe thead th {\n",
       "        text-align: right;\n",
       "    }\n",
       "</style>\n",
       "<table border=\"1\" class=\"dataframe\">\n",
       "  <thead>\n",
       "    <tr style=\"text-align: right;\">\n",
       "      <th></th>\n",
       "      <th>image_id</th>\n",
       "      <th>center_id</th>\n",
       "      <th>patient_id</th>\n",
       "      <th>image_num</th>\n",
       "      <th>label</th>\n",
       "    </tr>\n",
       "  </thead>\n",
       "  <tbody>\n",
       "    <tr>\n",
       "      <th>0</th>\n",
       "      <td>006388_0</td>\n",
       "      <td>11</td>\n",
       "      <td>006388</td>\n",
       "      <td>0</td>\n",
       "      <td>CE</td>\n",
       "    </tr>\n",
       "    <tr>\n",
       "      <th>1</th>\n",
       "      <td>008e5c_0</td>\n",
       "      <td>11</td>\n",
       "      <td>008e5c</td>\n",
       "      <td>0</td>\n",
       "      <td>CE</td>\n",
       "    </tr>\n",
       "    <tr>\n",
       "      <th>2</th>\n",
       "      <td>00c058_0</td>\n",
       "      <td>11</td>\n",
       "      <td>00c058</td>\n",
       "      <td>0</td>\n",
       "      <td>LAA</td>\n",
       "    </tr>\n",
       "    <tr>\n",
       "      <th>3</th>\n",
       "      <td>01adc5_0</td>\n",
       "      <td>11</td>\n",
       "      <td>01adc5</td>\n",
       "      <td>0</td>\n",
       "      <td>LAA</td>\n",
       "    </tr>\n",
       "    <tr>\n",
       "      <th>4</th>\n",
       "      <td>026c97_0</td>\n",
       "      <td>4</td>\n",
       "      <td>026c97</td>\n",
       "      <td>0</td>\n",
       "      <td>CE</td>\n",
       "    </tr>\n",
       "    <tr>\n",
       "      <th>...</th>\n",
       "      <td>...</td>\n",
       "      <td>...</td>\n",
       "      <td>...</td>\n",
       "      <td>...</td>\n",
       "      <td>...</td>\n",
       "    </tr>\n",
       "    <tr>\n",
       "      <th>749</th>\n",
       "      <td>fe9645_0</td>\n",
       "      <td>3</td>\n",
       "      <td>fe9645</td>\n",
       "      <td>0</td>\n",
       "      <td>CE</td>\n",
       "    </tr>\n",
       "    <tr>\n",
       "      <th>750</th>\n",
       "      <td>fe9bec_0</td>\n",
       "      <td>4</td>\n",
       "      <td>fe9bec</td>\n",
       "      <td>0</td>\n",
       "      <td>LAA</td>\n",
       "    </tr>\n",
       "    <tr>\n",
       "      <th>751</th>\n",
       "      <td>ff14e0_0</td>\n",
       "      <td>6</td>\n",
       "      <td>ff14e0</td>\n",
       "      <td>0</td>\n",
       "      <td>CE</td>\n",
       "    </tr>\n",
       "    <tr>\n",
       "      <th>752</th>\n",
       "      <td>ffec5c_0</td>\n",
       "      <td>7</td>\n",
       "      <td>ffec5c</td>\n",
       "      <td>0</td>\n",
       "      <td>LAA</td>\n",
       "    </tr>\n",
       "    <tr>\n",
       "      <th>753</th>\n",
       "      <td>ffec5c_1</td>\n",
       "      <td>7</td>\n",
       "      <td>ffec5c</td>\n",
       "      <td>1</td>\n",
       "      <td>LAA</td>\n",
       "    </tr>\n",
       "  </tbody>\n",
       "</table>\n",
       "<p>754 rows × 5 columns</p>\n",
       "</div>"
      ],
      "text/plain": [
       "     image_id  center_id patient_id  image_num label\n",
       "0    006388_0         11     006388          0    CE\n",
       "1    008e5c_0         11     008e5c          0    CE\n",
       "2    00c058_0         11     00c058          0   LAA\n",
       "3    01adc5_0         11     01adc5          0   LAA\n",
       "4    026c97_0          4     026c97          0    CE\n",
       "..        ...        ...        ...        ...   ...\n",
       "749  fe9645_0          3     fe9645          0    CE\n",
       "750  fe9bec_0          4     fe9bec          0   LAA\n",
       "751  ff14e0_0          6     ff14e0          0    CE\n",
       "752  ffec5c_0          7     ffec5c          0   LAA\n",
       "753  ffec5c_1          7     ffec5c          1   LAA\n",
       "\n",
       "[754 rows x 5 columns]"
      ]
     },
     "metadata": {},
     "output_type": "display_data"
    }
   ],
   "source": [
    "train_data = pd.read_csv(\"../input/mayo-clinic-strip-ai/train.csv\")\n",
    "test_data = pd.read_csv(\"../input/mayo-clinic-strip-ai/test.csv\")\n",
    "display(train_data)"
   ]
  },
  {
   "cell_type": "code",
   "execution_count": 6,
   "id": "5865bfca",
   "metadata": {
    "execution": {
     "iopub.execute_input": "2022-08-14T10:04:20.904391Z",
     "iopub.status.busy": "2022-08-14T10:04:20.903562Z",
     "iopub.status.idle": "2022-08-14T10:04:21.224520Z",
     "shell.execute_reply": "2022-08-14T10:04:21.223534Z"
    },
    "papermill": {
     "duration": 0.334136,
     "end_time": "2022-08-14T10:04:21.226544",
     "exception": false,
     "start_time": "2022-08-14T10:04:20.892408",
     "status": "completed"
    },
    "tags": []
   },
   "outputs": [
    {
     "data": {
      "text/html": [
       "<div>\n",
       "<style scoped>\n",
       "    .dataframe tbody tr th:only-of-type {\n",
       "        vertical-align: middle;\n",
       "    }\n",
       "\n",
       "    .dataframe tbody tr th {\n",
       "        vertical-align: top;\n",
       "    }\n",
       "\n",
       "    .dataframe thead th {\n",
       "        text-align: right;\n",
       "    }\n",
       "</style>\n",
       "<table border=\"1\" class=\"dataframe\">\n",
       "  <thead>\n",
       "    <tr style=\"text-align: right;\">\n",
       "      <th></th>\n",
       "      <th>Path</th>\n",
       "      <th>image_id</th>\n",
       "    </tr>\n",
       "  </thead>\n",
       "  <tbody>\n",
       "    <tr>\n",
       "      <th>0</th>\n",
       "      <td>../input/mayo-convert-tif-to-jpg/train/c9d53d_...</td>\n",
       "      <td>c9d53d_0</td>\n",
       "    </tr>\n",
       "    <tr>\n",
       "      <th>1</th>\n",
       "      <td>../input/mayo-convert-tif-to-jpg/train/0b7cc8_...</td>\n",
       "      <td>0b7cc8_0</td>\n",
       "    </tr>\n",
       "    <tr>\n",
       "      <th>2</th>\n",
       "      <td>../input/mayo-convert-tif-to-jpg/train/ea2aad_...</td>\n",
       "      <td>ea2aad_0</td>\n",
       "    </tr>\n",
       "    <tr>\n",
       "      <th>3</th>\n",
       "      <td>../input/mayo-convert-tif-to-jpg/train/8cf32b_...</td>\n",
       "      <td>8cf32b_0</td>\n",
       "    </tr>\n",
       "    <tr>\n",
       "      <th>4</th>\n",
       "      <td>../input/mayo-convert-tif-to-jpg/train/46def4_...</td>\n",
       "      <td>46def4_0</td>\n",
       "    </tr>\n",
       "    <tr>\n",
       "      <th>...</th>\n",
       "      <td>...</td>\n",
       "      <td>...</td>\n",
       "    </tr>\n",
       "    <tr>\n",
       "      <th>749</th>\n",
       "      <td>../input/mayo-convert-tif-to-jpg/train/04439c_...</td>\n",
       "      <td>04439c_0</td>\n",
       "    </tr>\n",
       "    <tr>\n",
       "      <th>750</th>\n",
       "      <td>../input/mayo-convert-tif-to-jpg/train/56d177_...</td>\n",
       "      <td>56d177_3</td>\n",
       "    </tr>\n",
       "    <tr>\n",
       "      <th>751</th>\n",
       "      <td>../input/mayo-convert-tif-to-jpg/train/509042_...</td>\n",
       "      <td>509042_0</td>\n",
       "    </tr>\n",
       "    <tr>\n",
       "      <th>752</th>\n",
       "      <td>../input/mayo-convert-tif-to-jpg/train/a26055_...</td>\n",
       "      <td>a26055_0</td>\n",
       "    </tr>\n",
       "    <tr>\n",
       "      <th>753</th>\n",
       "      <td>../input/mayo-convert-tif-to-jpg/train/062387_...</td>\n",
       "      <td>062387_0</td>\n",
       "    </tr>\n",
       "  </tbody>\n",
       "</table>\n",
       "<p>754 rows × 2 columns</p>\n",
       "</div>"
      ],
      "text/plain": [
       "                                                  Path  image_id\n",
       "0    ../input/mayo-convert-tif-to-jpg/train/c9d53d_...  c9d53d_0\n",
       "1    ../input/mayo-convert-tif-to-jpg/train/0b7cc8_...  0b7cc8_0\n",
       "2    ../input/mayo-convert-tif-to-jpg/train/ea2aad_...  ea2aad_0\n",
       "3    ../input/mayo-convert-tif-to-jpg/train/8cf32b_...  8cf32b_0\n",
       "4    ../input/mayo-convert-tif-to-jpg/train/46def4_...  46def4_0\n",
       "..                                                 ...       ...\n",
       "749  ../input/mayo-convert-tif-to-jpg/train/04439c_...  04439c_0\n",
       "750  ../input/mayo-convert-tif-to-jpg/train/56d177_...  56d177_3\n",
       "751  ../input/mayo-convert-tif-to-jpg/train/509042_...  509042_0\n",
       "752  ../input/mayo-convert-tif-to-jpg/train/a26055_...  a26055_0\n",
       "753  ../input/mayo-convert-tif-to-jpg/train/062387_...  062387_0\n",
       "\n",
       "[754 rows x 2 columns]"
      ]
     },
     "execution_count": 6,
     "metadata": {},
     "output_type": "execute_result"
    }
   ],
   "source": [
    "train_df = pd.DataFrame(columns=['Path','image_id'])\n",
    "train_df['Path'] = glob.glob(\"../input/mayo-convert-tif-to-jpg/train/*\")\n",
    "train_df['image_id'] = train_df['Path'].apply(lambda x: x.split('/')[-1].replace('.jpg',\"\"))\n",
    "train_df\n"
   ]
  },
  {
   "cell_type": "code",
   "execution_count": 7,
   "id": "da7b3d52",
   "metadata": {
    "execution": {
     "iopub.execute_input": "2022-08-14T10:04:21.249632Z",
     "iopub.status.busy": "2022-08-14T10:04:21.248717Z",
     "iopub.status.idle": "2022-08-14T10:04:21.270859Z",
     "shell.execute_reply": "2022-08-14T10:04:21.269892Z"
    },
    "papermill": {
     "duration": 0.035602,
     "end_time": "2022-08-14T10:04:21.272817",
     "exception": false,
     "start_time": "2022-08-14T10:04:21.237215",
     "status": "completed"
    },
    "tags": []
   },
   "outputs": [
    {
     "data": {
      "text/html": [
       "<div>\n",
       "<style scoped>\n",
       "    .dataframe tbody tr th:only-of-type {\n",
       "        vertical-align: middle;\n",
       "    }\n",
       "\n",
       "    .dataframe tbody tr th {\n",
       "        vertical-align: top;\n",
       "    }\n",
       "\n",
       "    .dataframe thead th {\n",
       "        text-align: right;\n",
       "    }\n",
       "</style>\n",
       "<table border=\"1\" class=\"dataframe\">\n",
       "  <thead>\n",
       "    <tr style=\"text-align: right;\">\n",
       "      <th></th>\n",
       "      <th>image_id</th>\n",
       "      <th>center_id</th>\n",
       "      <th>patient_id</th>\n",
       "      <th>image_num</th>\n",
       "      <th>label</th>\n",
       "      <th>Path</th>\n",
       "    </tr>\n",
       "  </thead>\n",
       "  <tbody>\n",
       "    <tr>\n",
       "      <th>0</th>\n",
       "      <td>006388_0</td>\n",
       "      <td>11</td>\n",
       "      <td>006388</td>\n",
       "      <td>0</td>\n",
       "      <td>CE</td>\n",
       "      <td>../input/mayo-convert-tif-to-jpg/train/006388_...</td>\n",
       "    </tr>\n",
       "    <tr>\n",
       "      <th>1</th>\n",
       "      <td>008e5c_0</td>\n",
       "      <td>11</td>\n",
       "      <td>008e5c</td>\n",
       "      <td>0</td>\n",
       "      <td>CE</td>\n",
       "      <td>../input/mayo-convert-tif-to-jpg/train/008e5c_...</td>\n",
       "    </tr>\n",
       "    <tr>\n",
       "      <th>2</th>\n",
       "      <td>00c058_0</td>\n",
       "      <td>11</td>\n",
       "      <td>00c058</td>\n",
       "      <td>0</td>\n",
       "      <td>LAA</td>\n",
       "      <td>../input/mayo-convert-tif-to-jpg/train/00c058_...</td>\n",
       "    </tr>\n",
       "    <tr>\n",
       "      <th>3</th>\n",
       "      <td>01adc5_0</td>\n",
       "      <td>11</td>\n",
       "      <td>01adc5</td>\n",
       "      <td>0</td>\n",
       "      <td>LAA</td>\n",
       "      <td>../input/mayo-convert-tif-to-jpg/train/01adc5_...</td>\n",
       "    </tr>\n",
       "    <tr>\n",
       "      <th>4</th>\n",
       "      <td>026c97_0</td>\n",
       "      <td>4</td>\n",
       "      <td>026c97</td>\n",
       "      <td>0</td>\n",
       "      <td>CE</td>\n",
       "      <td>../input/mayo-convert-tif-to-jpg/train/026c97_...</td>\n",
       "    </tr>\n",
       "    <tr>\n",
       "      <th>...</th>\n",
       "      <td>...</td>\n",
       "      <td>...</td>\n",
       "      <td>...</td>\n",
       "      <td>...</td>\n",
       "      <td>...</td>\n",
       "      <td>...</td>\n",
       "    </tr>\n",
       "    <tr>\n",
       "      <th>749</th>\n",
       "      <td>fe9645_0</td>\n",
       "      <td>3</td>\n",
       "      <td>fe9645</td>\n",
       "      <td>0</td>\n",
       "      <td>CE</td>\n",
       "      <td>../input/mayo-convert-tif-to-jpg/train/fe9645_...</td>\n",
       "    </tr>\n",
       "    <tr>\n",
       "      <th>750</th>\n",
       "      <td>fe9bec_0</td>\n",
       "      <td>4</td>\n",
       "      <td>fe9bec</td>\n",
       "      <td>0</td>\n",
       "      <td>LAA</td>\n",
       "      <td>../input/mayo-convert-tif-to-jpg/train/fe9bec_...</td>\n",
       "    </tr>\n",
       "    <tr>\n",
       "      <th>751</th>\n",
       "      <td>ff14e0_0</td>\n",
       "      <td>6</td>\n",
       "      <td>ff14e0</td>\n",
       "      <td>0</td>\n",
       "      <td>CE</td>\n",
       "      <td>../input/mayo-convert-tif-to-jpg/train/ff14e0_...</td>\n",
       "    </tr>\n",
       "    <tr>\n",
       "      <th>752</th>\n",
       "      <td>ffec5c_0</td>\n",
       "      <td>7</td>\n",
       "      <td>ffec5c</td>\n",
       "      <td>0</td>\n",
       "      <td>LAA</td>\n",
       "      <td>../input/mayo-convert-tif-to-jpg/train/ffec5c_...</td>\n",
       "    </tr>\n",
       "    <tr>\n",
       "      <th>753</th>\n",
       "      <td>ffec5c_1</td>\n",
       "      <td>7</td>\n",
       "      <td>ffec5c</td>\n",
       "      <td>1</td>\n",
       "      <td>LAA</td>\n",
       "      <td>../input/mayo-convert-tif-to-jpg/train/ffec5c_...</td>\n",
       "    </tr>\n",
       "  </tbody>\n",
       "</table>\n",
       "<p>754 rows × 6 columns</p>\n",
       "</div>"
      ],
      "text/plain": [
       "     image_id  center_id patient_id  image_num label  \\\n",
       "0    006388_0         11     006388          0    CE   \n",
       "1    008e5c_0         11     008e5c          0    CE   \n",
       "2    00c058_0         11     00c058          0   LAA   \n",
       "3    01adc5_0         11     01adc5          0   LAA   \n",
       "4    026c97_0          4     026c97          0    CE   \n",
       "..        ...        ...        ...        ...   ...   \n",
       "749  fe9645_0          3     fe9645          0    CE   \n",
       "750  fe9bec_0          4     fe9bec          0   LAA   \n",
       "751  ff14e0_0          6     ff14e0          0    CE   \n",
       "752  ffec5c_0          7     ffec5c          0   LAA   \n",
       "753  ffec5c_1          7     ffec5c          1   LAA   \n",
       "\n",
       "                                                  Path  \n",
       "0    ../input/mayo-convert-tif-to-jpg/train/006388_...  \n",
       "1    ../input/mayo-convert-tif-to-jpg/train/008e5c_...  \n",
       "2    ../input/mayo-convert-tif-to-jpg/train/00c058_...  \n",
       "3    ../input/mayo-convert-tif-to-jpg/train/01adc5_...  \n",
       "4    ../input/mayo-convert-tif-to-jpg/train/026c97_...  \n",
       "..                                                 ...  \n",
       "749  ../input/mayo-convert-tif-to-jpg/train/fe9645_...  \n",
       "750  ../input/mayo-convert-tif-to-jpg/train/fe9bec_...  \n",
       "751  ../input/mayo-convert-tif-to-jpg/train/ff14e0_...  \n",
       "752  ../input/mayo-convert-tif-to-jpg/train/ffec5c_...  \n",
       "753  ../input/mayo-convert-tif-to-jpg/train/ffec5c_...  \n",
       "\n",
       "[754 rows x 6 columns]"
      ]
     },
     "execution_count": 7,
     "metadata": {},
     "output_type": "execute_result"
    }
   ],
   "source": [
    "train_data = train_data.merge(train_df,on='image_id')\n",
    "train_data"
   ]
  },
  {
   "cell_type": "code",
   "execution_count": 8,
   "id": "36d678d2",
   "metadata": {
    "execution": {
     "iopub.execute_input": "2022-08-14T10:04:21.295524Z",
     "iopub.status.busy": "2022-08-14T10:04:21.295252Z",
     "iopub.status.idle": "2022-08-14T10:04:21.298911Z",
     "shell.execute_reply": "2022-08-14T10:04:21.298000Z"
    },
    "papermill": {
     "duration": 0.01726,
     "end_time": "2022-08-14T10:04:21.300915",
     "exception": false,
     "start_time": "2022-08-14T10:04:21.283655",
     "status": "completed"
    },
    "tags": []
   },
   "outputs": [],
   "source": [
    "#img = Image.open(train_data['Path'][0])\n",
    "#plt.imshow(img)"
   ]
  },
  {
   "cell_type": "code",
   "execution_count": 9,
   "id": "0b90644e",
   "metadata": {
    "execution": {
     "iopub.execute_input": "2022-08-14T10:04:21.323877Z",
     "iopub.status.busy": "2022-08-14T10:04:21.323595Z",
     "iopub.status.idle": "2022-08-14T10:04:21.338690Z",
     "shell.execute_reply": "2022-08-14T10:04:21.337675Z"
    },
    "papermill": {
     "duration": 0.029513,
     "end_time": "2022-08-14T10:04:21.341198",
     "exception": false,
     "start_time": "2022-08-14T10:04:21.311685",
     "status": "completed"
    },
    "tags": []
   },
   "outputs": [
    {
     "data": {
      "text/html": [
       "<div>\n",
       "<style scoped>\n",
       "    .dataframe tbody tr th:only-of-type {\n",
       "        vertical-align: middle;\n",
       "    }\n",
       "\n",
       "    .dataframe tbody tr th {\n",
       "        vertical-align: top;\n",
       "    }\n",
       "\n",
       "    .dataframe thead th {\n",
       "        text-align: right;\n",
       "    }\n",
       "</style>\n",
       "<table border=\"1\" class=\"dataframe\">\n",
       "  <thead>\n",
       "    <tr style=\"text-align: right;\">\n",
       "      <th></th>\n",
       "      <th>image_id</th>\n",
       "      <th>center_id</th>\n",
       "      <th>patient_id</th>\n",
       "      <th>image_num</th>\n",
       "      <th>label</th>\n",
       "      <th>Path</th>\n",
       "    </tr>\n",
       "  </thead>\n",
       "  <tbody>\n",
       "    <tr>\n",
       "      <th>0</th>\n",
       "      <td>006388_0</td>\n",
       "      <td>11</td>\n",
       "      <td>006388</td>\n",
       "      <td>0</td>\n",
       "      <td>0</td>\n",
       "      <td>../input/mayo-convert-tif-to-jpg/train/006388_...</td>\n",
       "    </tr>\n",
       "    <tr>\n",
       "      <th>1</th>\n",
       "      <td>008e5c_0</td>\n",
       "      <td>11</td>\n",
       "      <td>008e5c</td>\n",
       "      <td>0</td>\n",
       "      <td>0</td>\n",
       "      <td>../input/mayo-convert-tif-to-jpg/train/008e5c_...</td>\n",
       "    </tr>\n",
       "    <tr>\n",
       "      <th>2</th>\n",
       "      <td>00c058_0</td>\n",
       "      <td>11</td>\n",
       "      <td>00c058</td>\n",
       "      <td>0</td>\n",
       "      <td>1</td>\n",
       "      <td>../input/mayo-convert-tif-to-jpg/train/00c058_...</td>\n",
       "    </tr>\n",
       "    <tr>\n",
       "      <th>3</th>\n",
       "      <td>01adc5_0</td>\n",
       "      <td>11</td>\n",
       "      <td>01adc5</td>\n",
       "      <td>0</td>\n",
       "      <td>1</td>\n",
       "      <td>../input/mayo-convert-tif-to-jpg/train/01adc5_...</td>\n",
       "    </tr>\n",
       "    <tr>\n",
       "      <th>4</th>\n",
       "      <td>026c97_0</td>\n",
       "      <td>4</td>\n",
       "      <td>026c97</td>\n",
       "      <td>0</td>\n",
       "      <td>0</td>\n",
       "      <td>../input/mayo-convert-tif-to-jpg/train/026c97_...</td>\n",
       "    </tr>\n",
       "    <tr>\n",
       "      <th>...</th>\n",
       "      <td>...</td>\n",
       "      <td>...</td>\n",
       "      <td>...</td>\n",
       "      <td>...</td>\n",
       "      <td>...</td>\n",
       "      <td>...</td>\n",
       "    </tr>\n",
       "    <tr>\n",
       "      <th>749</th>\n",
       "      <td>fe9645_0</td>\n",
       "      <td>3</td>\n",
       "      <td>fe9645</td>\n",
       "      <td>0</td>\n",
       "      <td>0</td>\n",
       "      <td>../input/mayo-convert-tif-to-jpg/train/fe9645_...</td>\n",
       "    </tr>\n",
       "    <tr>\n",
       "      <th>750</th>\n",
       "      <td>fe9bec_0</td>\n",
       "      <td>4</td>\n",
       "      <td>fe9bec</td>\n",
       "      <td>0</td>\n",
       "      <td>1</td>\n",
       "      <td>../input/mayo-convert-tif-to-jpg/train/fe9bec_...</td>\n",
       "    </tr>\n",
       "    <tr>\n",
       "      <th>751</th>\n",
       "      <td>ff14e0_0</td>\n",
       "      <td>6</td>\n",
       "      <td>ff14e0</td>\n",
       "      <td>0</td>\n",
       "      <td>0</td>\n",
       "      <td>../input/mayo-convert-tif-to-jpg/train/ff14e0_...</td>\n",
       "    </tr>\n",
       "    <tr>\n",
       "      <th>752</th>\n",
       "      <td>ffec5c_0</td>\n",
       "      <td>7</td>\n",
       "      <td>ffec5c</td>\n",
       "      <td>0</td>\n",
       "      <td>1</td>\n",
       "      <td>../input/mayo-convert-tif-to-jpg/train/ffec5c_...</td>\n",
       "    </tr>\n",
       "    <tr>\n",
       "      <th>753</th>\n",
       "      <td>ffec5c_1</td>\n",
       "      <td>7</td>\n",
       "      <td>ffec5c</td>\n",
       "      <td>1</td>\n",
       "      <td>1</td>\n",
       "      <td>../input/mayo-convert-tif-to-jpg/train/ffec5c_...</td>\n",
       "    </tr>\n",
       "  </tbody>\n",
       "</table>\n",
       "<p>754 rows × 6 columns</p>\n",
       "</div>"
      ],
      "text/plain": [
       "     image_id  center_id patient_id  image_num  label  \\\n",
       "0    006388_0         11     006388          0      0   \n",
       "1    008e5c_0         11     008e5c          0      0   \n",
       "2    00c058_0         11     00c058          0      1   \n",
       "3    01adc5_0         11     01adc5          0      1   \n",
       "4    026c97_0          4     026c97          0      0   \n",
       "..        ...        ...        ...        ...    ...   \n",
       "749  fe9645_0          3     fe9645          0      0   \n",
       "750  fe9bec_0          4     fe9bec          0      1   \n",
       "751  ff14e0_0          6     ff14e0          0      0   \n",
       "752  ffec5c_0          7     ffec5c          0      1   \n",
       "753  ffec5c_1          7     ffec5c          1      1   \n",
       "\n",
       "                                                  Path  \n",
       "0    ../input/mayo-convert-tif-to-jpg/train/006388_...  \n",
       "1    ../input/mayo-convert-tif-to-jpg/train/008e5c_...  \n",
       "2    ../input/mayo-convert-tif-to-jpg/train/00c058_...  \n",
       "3    ../input/mayo-convert-tif-to-jpg/train/01adc5_...  \n",
       "4    ../input/mayo-convert-tif-to-jpg/train/026c97_...  \n",
       "..                                                 ...  \n",
       "749  ../input/mayo-convert-tif-to-jpg/train/fe9645_...  \n",
       "750  ../input/mayo-convert-tif-to-jpg/train/fe9bec_...  \n",
       "751  ../input/mayo-convert-tif-to-jpg/train/ff14e0_...  \n",
       "752  ../input/mayo-convert-tif-to-jpg/train/ffec5c_...  \n",
       "753  ../input/mayo-convert-tif-to-jpg/train/ffec5c_...  \n",
       "\n",
       "[754 rows x 6 columns]"
      ]
     },
     "execution_count": 9,
     "metadata": {},
     "output_type": "execute_result"
    }
   ],
   "source": [
    "le = LabelEncoder()\n",
    "train_data['label'] = le.fit_transform(train_data['label'])\n",
    "train_data\n"
   ]
  },
  {
   "cell_type": "markdown",
   "id": "76dd7432",
   "metadata": {
    "papermill": {
     "duration": 0.010953,
     "end_time": "2022-08-14T10:04:21.363584",
     "exception": false,
     "start_time": "2022-08-14T10:04:21.352631",
     "status": "completed"
    },
    "tags": []
   },
   "source": [
    "(Try reducing number of CE data in training )\n"
   ]
  },
  {
   "cell_type": "code",
   "execution_count": 10,
   "id": "c41949c4",
   "metadata": {
    "execution": {
     "iopub.execute_input": "2022-08-14T10:04:21.387897Z",
     "iopub.status.busy": "2022-08-14T10:04:21.387611Z",
     "iopub.status.idle": "2022-08-14T10:04:21.406855Z",
     "shell.execute_reply": "2022-08-14T10:04:21.405896Z"
    },
    "papermill": {
     "duration": 0.033808,
     "end_time": "2022-08-14T10:04:21.408886",
     "exception": false,
     "start_time": "2022-08-14T10:04:21.375078",
     "status": "completed"
    },
    "tags": []
   },
   "outputs": [
    {
     "data": {
      "text/html": [
       "<div>\n",
       "<style scoped>\n",
       "    .dataframe tbody tr th:only-of-type {\n",
       "        vertical-align: middle;\n",
       "    }\n",
       "\n",
       "    .dataframe tbody tr th {\n",
       "        vertical-align: top;\n",
       "    }\n",
       "\n",
       "    .dataframe thead th {\n",
       "        text-align: right;\n",
       "    }\n",
       "</style>\n",
       "<table border=\"1\" class=\"dataframe\">\n",
       "  <thead>\n",
       "    <tr style=\"text-align: right;\">\n",
       "      <th></th>\n",
       "      <th>image_id</th>\n",
       "      <th>center_id</th>\n",
       "      <th>patient_id</th>\n",
       "      <th>image_num</th>\n",
       "      <th>label</th>\n",
       "      <th>Path</th>\n",
       "    </tr>\n",
       "  </thead>\n",
       "  <tbody>\n",
       "    <tr>\n",
       "      <th>0</th>\n",
       "      <td>41b23c_0</td>\n",
       "      <td>3</td>\n",
       "      <td>41b23c</td>\n",
       "      <td>0</td>\n",
       "      <td>1</td>\n",
       "      <td>../input/mayo-convert-tif-to-jpg/train/41b23c_...</td>\n",
       "    </tr>\n",
       "    <tr>\n",
       "      <th>1</th>\n",
       "      <td>862501_1</td>\n",
       "      <td>7</td>\n",
       "      <td>862501</td>\n",
       "      <td>1</td>\n",
       "      <td>1</td>\n",
       "      <td>../input/mayo-convert-tif-to-jpg/train/862501_...</td>\n",
       "    </tr>\n",
       "    <tr>\n",
       "      <th>2</th>\n",
       "      <td>dba56f_0</td>\n",
       "      <td>4</td>\n",
       "      <td>dba56f</td>\n",
       "      <td>0</td>\n",
       "      <td>1</td>\n",
       "      <td>../input/mayo-convert-tif-to-jpg/train/dba56f_...</td>\n",
       "    </tr>\n",
       "    <tr>\n",
       "      <th>3</th>\n",
       "      <td>62dd90_0</td>\n",
       "      <td>9</td>\n",
       "      <td>62dd90</td>\n",
       "      <td>0</td>\n",
       "      <td>0</td>\n",
       "      <td>../input/mayo-convert-tif-to-jpg/train/62dd90_...</td>\n",
       "    </tr>\n",
       "    <tr>\n",
       "      <th>4</th>\n",
       "      <td>516e18_1</td>\n",
       "      <td>10</td>\n",
       "      <td>516e18</td>\n",
       "      <td>1</td>\n",
       "      <td>0</td>\n",
       "      <td>../input/mayo-convert-tif-to-jpg/train/516e18_...</td>\n",
       "    </tr>\n",
       "    <tr>\n",
       "      <th>...</th>\n",
       "      <td>...</td>\n",
       "      <td>...</td>\n",
       "      <td>...</td>\n",
       "      <td>...</td>\n",
       "      <td>...</td>\n",
       "      <td>...</td>\n",
       "    </tr>\n",
       "    <tr>\n",
       "      <th>560</th>\n",
       "      <td>45e3e0_0</td>\n",
       "      <td>11</td>\n",
       "      <td>45e3e0</td>\n",
       "      <td>0</td>\n",
       "      <td>0</td>\n",
       "      <td>../input/mayo-convert-tif-to-jpg/train/45e3e0_...</td>\n",
       "    </tr>\n",
       "    <tr>\n",
       "      <th>561</th>\n",
       "      <td>f322da_0</td>\n",
       "      <td>11</td>\n",
       "      <td>f322da</td>\n",
       "      <td>0</td>\n",
       "      <td>0</td>\n",
       "      <td>../input/mayo-convert-tif-to-jpg/train/f322da_...</td>\n",
       "    </tr>\n",
       "    <tr>\n",
       "      <th>562</th>\n",
       "      <td>9fa03a_0</td>\n",
       "      <td>2</td>\n",
       "      <td>9fa03a</td>\n",
       "      <td>0</td>\n",
       "      <td>0</td>\n",
       "      <td>../input/mayo-convert-tif-to-jpg/train/9fa03a_...</td>\n",
       "    </tr>\n",
       "    <tr>\n",
       "      <th>563</th>\n",
       "      <td>f9fc6b_1</td>\n",
       "      <td>11</td>\n",
       "      <td>f9fc6b</td>\n",
       "      <td>1</td>\n",
       "      <td>1</td>\n",
       "      <td>../input/mayo-convert-tif-to-jpg/train/f9fc6b_...</td>\n",
       "    </tr>\n",
       "    <tr>\n",
       "      <th>564</th>\n",
       "      <td>d36b5f_0</td>\n",
       "      <td>7</td>\n",
       "      <td>d36b5f</td>\n",
       "      <td>0</td>\n",
       "      <td>0</td>\n",
       "      <td>../input/mayo-convert-tif-to-jpg/train/d36b5f_...</td>\n",
       "    </tr>\n",
       "  </tbody>\n",
       "</table>\n",
       "<p>565 rows × 6 columns</p>\n",
       "</div>"
      ],
      "text/plain": [
       "     image_id  center_id patient_id  image_num  label  \\\n",
       "0    41b23c_0          3     41b23c          0      1   \n",
       "1    862501_1          7     862501          1      1   \n",
       "2    dba56f_0          4     dba56f          0      1   \n",
       "3    62dd90_0          9     62dd90          0      0   \n",
       "4    516e18_1         10     516e18          1      0   \n",
       "..        ...        ...        ...        ...    ...   \n",
       "560  45e3e0_0         11     45e3e0          0      0   \n",
       "561  f322da_0         11     f322da          0      0   \n",
       "562  9fa03a_0          2     9fa03a          0      0   \n",
       "563  f9fc6b_1         11     f9fc6b          1      1   \n",
       "564  d36b5f_0          7     d36b5f          0      0   \n",
       "\n",
       "                                                  Path  \n",
       "0    ../input/mayo-convert-tif-to-jpg/train/41b23c_...  \n",
       "1    ../input/mayo-convert-tif-to-jpg/train/862501_...  \n",
       "2    ../input/mayo-convert-tif-to-jpg/train/dba56f_...  \n",
       "3    ../input/mayo-convert-tif-to-jpg/train/62dd90_...  \n",
       "4    ../input/mayo-convert-tif-to-jpg/train/516e18_...  \n",
       "..                                                 ...  \n",
       "560  ../input/mayo-convert-tif-to-jpg/train/45e3e0_...  \n",
       "561  ../input/mayo-convert-tif-to-jpg/train/f322da_...  \n",
       "562  ../input/mayo-convert-tif-to-jpg/train/9fa03a_...  \n",
       "563  ../input/mayo-convert-tif-to-jpg/train/f9fc6b_...  \n",
       "564  ../input/mayo-convert-tif-to-jpg/train/d36b5f_...  \n",
       "\n",
       "[565 rows x 6 columns]"
      ]
     },
     "execution_count": 10,
     "metadata": {},
     "output_type": "execute_result"
    }
   ],
   "source": [
    "y = train_data[\"label\"]\n",
    "train, test = train_test_split(train_data, test_size=0.25, stratify = y)\n",
    "\n",
    "train = train.reset_index(drop=True)\n",
    "train"
   ]
  },
  {
   "cell_type": "code",
   "execution_count": 11,
   "id": "4e18a525",
   "metadata": {
    "execution": {
     "iopub.execute_input": "2022-08-14T10:04:21.434803Z",
     "iopub.status.busy": "2022-08-14T10:04:21.433977Z",
     "iopub.status.idle": "2022-08-14T10:04:21.443106Z",
     "shell.execute_reply": "2022-08-14T10:04:21.442139Z"
    },
    "papermill": {
     "duration": 0.023693,
     "end_time": "2022-08-14T10:04:21.445220",
     "exception": false,
     "start_time": "2022-08-14T10:04:21.421527",
     "status": "completed"
    },
    "tags": []
   },
   "outputs": [
    {
     "data": {
      "text/plain": [
       "0    410\n",
       "1    155\n",
       "Name: label, dtype: int64"
      ]
     },
     "execution_count": 11,
     "metadata": {},
     "output_type": "execute_result"
    }
   ],
   "source": [
    "train['label'].value_counts()"
   ]
  },
  {
   "cell_type": "code",
   "execution_count": 12,
   "id": "7b24a951",
   "metadata": {
    "execution": {
     "iopub.execute_input": "2022-08-14T10:04:21.471618Z",
     "iopub.status.busy": "2022-08-14T10:04:21.469987Z",
     "iopub.status.idle": "2022-08-14T10:04:21.481828Z",
     "shell.execute_reply": "2022-08-14T10:04:21.480957Z"
    },
    "papermill": {
     "duration": 0.02663,
     "end_time": "2022-08-14T10:04:21.483811",
     "exception": false,
     "start_time": "2022-08-14T10:04:21.457181",
     "status": "completed"
    },
    "tags": []
   },
   "outputs": [],
   "source": [
    "class DataGenerator(Sequence):\n",
    "    'Generates data for Keras'\n",
    "    def __init__(self, df, batch_size=8, n_classes=2, shuffle=False,to_fit=True):\n",
    "        'Initialization'\n",
    "        self.df = df\n",
    "        self.to_fit = to_fit\n",
    "        self.batch_size = batch_size\n",
    "        self.indexes = np.arange(len(self.df))\n",
    "        self.n_classes = n_classes\n",
    "        self.shuffle = shuffle\n",
    "        self.on_epoch_end()\n",
    "    def __len__(self):\n",
    "        return int(np.floor(len(self.df) / self.batch_size))\n",
    "    \n",
    "    def on_epoch_end(self):\n",
    "        'Updates indexes after each epoch'\n",
    "        if self.shuffle == True:\n",
    "            np.random.shuffle(self.indexes)\n",
    "            \n",
    "    def __getitem__(self, index):\n",
    "        indexes = self.indexes[index*self.batch_size: (index+1)*self.batch_size]\n",
    "        X = np.empty((self.batch_size,512,512,3),dtype=np.float32)\n",
    "        y = np.empty((self.batch_size,1),dtype=np.float32)\n",
    "        \n",
    "        if self.to_fit == True:\n",
    "            \n",
    "            for i, img_path in enumerate(self.df['Path'].iloc[indexes]):\n",
    "                img = self.read_img(img_path)\n",
    "                X[i,] = img\n",
    "                y[i] = self.df['label'].iloc[indexes[i]]\n",
    "            return X, y\n",
    "        \n",
    "        else:\n",
    "            for i, img_path in enumerate(self.df['Path'].iloc[indexes]):\n",
    "                img = self.read_img(img_path)\n",
    "                X[i,] = img\n",
    "                \n",
    "            return X\n",
    "        \n",
    "        \n",
    "    def read_img(self, path):\n",
    "        image =  pyvips.Image.thumbnail(path,512,height=512,size='force')\n",
    "        image = np.asarray(image)\n",
    "        image = image.astype(np.float32)\n",
    "        return image/255\n",
    "        "
   ]
  },
  {
   "cell_type": "code",
   "execution_count": 13,
   "id": "387d2a5f",
   "metadata": {
    "execution": {
     "iopub.execute_input": "2022-08-14T10:04:21.509394Z",
     "iopub.status.busy": "2022-08-14T10:04:21.508619Z",
     "iopub.status.idle": "2022-08-14T10:04:21.513475Z",
     "shell.execute_reply": "2022-08-14T10:04:21.512646Z"
    },
    "papermill": {
     "duration": 0.019619,
     "end_time": "2022-08-14T10:04:21.515427",
     "exception": false,
     "start_time": "2022-08-14T10:04:21.495808",
     "status": "completed"
    },
    "tags": []
   },
   "outputs": [],
   "source": [
    "training_generator = DataGenerator(train,shuffle = True)\n",
    "val_generator = DataGenerator(test,shuffle = True)"
   ]
  },
  {
   "cell_type": "markdown",
   "id": "e5bc0de3",
   "metadata": {
    "papermill": {
     "duration": 0.011885,
     "end_time": "2022-08-14T10:04:21.538864",
     "exception": false,
     "start_time": "2022-08-14T10:04:21.526979",
     "status": "completed"
    },
    "tags": []
   },
   "source": [
    "**Loss function** taken from : \n",
    "https://www.kaggle.com/code/towhidultonmoy/implementing-custom-weighted-multi-class-log-loss¶"
   ]
  },
  {
   "cell_type": "code",
   "execution_count": 14,
   "id": "29d31bf9",
   "metadata": {
    "execution": {
     "iopub.execute_input": "2022-08-14T10:04:21.564796Z",
     "iopub.status.busy": "2022-08-14T10:04:21.563101Z",
     "iopub.status.idle": "2022-08-14T10:04:21.571784Z",
     "shell.execute_reply": "2022-08-14T10:04:21.570909Z"
    },
    "papermill": {
     "duration": 0.023279,
     "end_time": "2022-08-14T10:04:21.573895",
     "exception": false,
     "start_time": "2022-08-14T10:04:21.550616",
     "status": "completed"
    },
    "tags": []
   },
   "outputs": [],
   "source": [
    "\n",
    "epsilon = 1e-7 \n",
    "n_classes=2 #As there are two classes in the dataset\n",
    "weights = np.ones(n_classes, dtype='float32')  #For this competition, you can use weights from probing the leaderboard\n",
    "class_counts = train_data.groupby('label')['image_id'].count().values \n",
    "class_proportions = class_counts/np.max(class_counts)\n",
    "K.set_floatx('float32') #You can also set backend to any float "
   ]
  },
  {
   "cell_type": "code",
   "execution_count": 15,
   "id": "c2e5e198",
   "metadata": {
    "execution": {
     "iopub.execute_input": "2022-08-14T10:04:21.599449Z",
     "iopub.status.busy": "2022-08-14T10:04:21.598668Z",
     "iopub.status.idle": "2022-08-14T10:04:21.604449Z",
     "shell.execute_reply": "2022-08-14T10:04:21.603586Z"
    },
    "papermill": {
     "duration": 0.020261,
     "end_time": "2022-08-14T10:04:21.606401",
     "exception": false,
     "start_time": "2022-08-14T10:04:21.586140",
     "status": "completed"
    },
    "tags": []
   },
   "outputs": [],
   "source": [
    "def weighted_mc_log_loss(y_true, y_pred):\n",
    "    # Clipping the prediction value\n",
    "    y_pred_clipped = K.clip(y_pred, epsilon, 1-epsilon)  \n",
    "    #true labels weighted by weights and percent elements per class\n",
    "    y_true_weighted = (y_true * weights)/class_proportions\n",
    "    #multiply tensors element-wise and then sum\n",
    "    loss_num = (y_true_weighted * K.log(y_pred_clipped))\n",
    "    loss = -1*K.sum(loss_num)/K.sum(weights)\n",
    "    \n",
    "    return loss"
   ]
  },
  {
   "cell_type": "code",
   "execution_count": 16,
   "id": "9b6df99d",
   "metadata": {
    "execution": {
     "iopub.execute_input": "2022-08-14T10:04:21.631607Z",
     "iopub.status.busy": "2022-08-14T10:04:21.630821Z",
     "iopub.status.idle": "2022-08-14T10:04:24.565333Z",
     "shell.execute_reply": "2022-08-14T10:04:24.563778Z"
    },
    "papermill": {
     "duration": 2.950067,
     "end_time": "2022-08-14T10:04:24.568087",
     "exception": false,
     "start_time": "2022-08-14T10:04:21.618020",
     "status": "completed"
    },
    "tags": []
   },
   "outputs": [
    {
     "name": "stderr",
     "output_type": "stream",
     "text": [
      "2022-08-14 10:04:21.732195: I tensorflow/stream_executor/cuda/cuda_gpu_executor.cc:937] successful NUMA node read from SysFS had negative value (-1), but there must be at least one NUMA node, so returning NUMA node zero\n",
      "2022-08-14 10:04:21.862409: I tensorflow/stream_executor/cuda/cuda_gpu_executor.cc:937] successful NUMA node read from SysFS had negative value (-1), but there must be at least one NUMA node, so returning NUMA node zero\n",
      "2022-08-14 10:04:21.863219: I tensorflow/stream_executor/cuda/cuda_gpu_executor.cc:937] successful NUMA node read from SysFS had negative value (-1), but there must be at least one NUMA node, so returning NUMA node zero\n",
      "2022-08-14 10:04:21.864467: I tensorflow/core/platform/cpu_feature_guard.cc:142] This TensorFlow binary is optimized with oneAPI Deep Neural Network Library (oneDNN) to use the following CPU instructions in performance-critical operations:  AVX2 AVX512F FMA\n",
      "To enable them in other operations, rebuild TensorFlow with the appropriate compiler flags.\n",
      "2022-08-14 10:04:21.864808: I tensorflow/stream_executor/cuda/cuda_gpu_executor.cc:937] successful NUMA node read from SysFS had negative value (-1), but there must be at least one NUMA node, so returning NUMA node zero\n",
      "2022-08-14 10:04:21.865534: I tensorflow/stream_executor/cuda/cuda_gpu_executor.cc:937] successful NUMA node read from SysFS had negative value (-1), but there must be at least one NUMA node, so returning NUMA node zero\n",
      "2022-08-14 10:04:21.866271: I tensorflow/stream_executor/cuda/cuda_gpu_executor.cc:937] successful NUMA node read from SysFS had negative value (-1), but there must be at least one NUMA node, so returning NUMA node zero\n",
      "2022-08-14 10:04:24.105748: I tensorflow/stream_executor/cuda/cuda_gpu_executor.cc:937] successful NUMA node read from SysFS had negative value (-1), but there must be at least one NUMA node, so returning NUMA node zero\n",
      "2022-08-14 10:04:24.106696: I tensorflow/stream_executor/cuda/cuda_gpu_executor.cc:937] successful NUMA node read from SysFS had negative value (-1), but there must be at least one NUMA node, so returning NUMA node zero\n",
      "2022-08-14 10:04:24.107411: I tensorflow/stream_executor/cuda/cuda_gpu_executor.cc:937] successful NUMA node read from SysFS had negative value (-1), but there must be at least one NUMA node, so returning NUMA node zero\n",
      "2022-08-14 10:04:24.108008: I tensorflow/core/common_runtime/gpu/gpu_device.cc:1510] Created device /job:localhost/replica:0/task:0/device:GPU:0 with 15403 MB memory:  -> device: 0, name: Tesla P100-PCIE-16GB, pci bus id: 0000:00:04.0, compute capability: 6.0\n"
     ]
    }
   ],
   "source": [
    "input_shape=(512,512,3)\n",
    "model = Sequential()\n",
    "model.add(Conv2D(32, kernel_size=(3, 3),\n",
    "                 activation='relu',\n",
    "                 input_shape=input_shape))\n",
    "model.add(Conv2D(64, (3, 3), activation='relu'))\n",
    "model.add(MaxPool2D(pool_size=(2, 2)))\n",
    "model.add(Dropout(0.3))\n",
    "model.add(Flatten())\n",
    "model.add(Dense(128, activation='relu'))\n",
    "#model.add(Dropout(0.5))\n",
    "model.add(Dense(2, activation='softmax'))"
   ]
  },
  {
   "cell_type": "code",
   "execution_count": 17,
   "id": "60c063fc",
   "metadata": {
    "execution": {
     "iopub.execute_input": "2022-08-14T10:04:24.593964Z",
     "iopub.status.busy": "2022-08-14T10:04:24.593680Z",
     "iopub.status.idle": "2022-08-14T10:04:24.605342Z",
     "shell.execute_reply": "2022-08-14T10:04:24.604480Z"
    },
    "papermill": {
     "duration": 0.026426,
     "end_time": "2022-08-14T10:04:24.607221",
     "exception": false,
     "start_time": "2022-08-14T10:04:24.580795",
     "status": "completed"
    },
    "tags": []
   },
   "outputs": [],
   "source": [
    "model.compile(loss='sparse_categorical_crossentropy',\n",
    "              optimizer='adam',\n",
    "              metrics=['accuracy'])"
   ]
  },
  {
   "cell_type": "code",
   "execution_count": 18,
   "id": "db560ff0",
   "metadata": {
    "execution": {
     "iopub.execute_input": "2022-08-14T10:04:24.632289Z",
     "iopub.status.busy": "2022-08-14T10:04:24.631881Z",
     "iopub.status.idle": "2022-08-14T10:04:24.636730Z",
     "shell.execute_reply": "2022-08-14T10:04:24.635805Z"
    },
    "papermill": {
     "duration": 0.019567,
     "end_time": "2022-08-14T10:04:24.638784",
     "exception": false,
     "start_time": "2022-08-14T10:04:24.619217",
     "status": "completed"
    },
    "tags": []
   },
   "outputs": [],
   "source": [
    "os.makedirs('best_model')"
   ]
  },
  {
   "cell_type": "code",
   "execution_count": 19,
   "id": "7060e67f",
   "metadata": {
    "execution": {
     "iopub.execute_input": "2022-08-14T10:04:24.664478Z",
     "iopub.status.busy": "2022-08-14T10:04:24.664217Z",
     "iopub.status.idle": "2022-08-14T10:04:24.669467Z",
     "shell.execute_reply": "2022-08-14T10:04:24.668464Z"
    },
    "papermill": {
     "duration": 0.020795,
     "end_time": "2022-08-14T10:04:24.671453",
     "exception": false,
     "start_time": "2022-08-14T10:04:24.650658",
     "status": "completed"
    },
    "tags": []
   },
   "outputs": [],
   "source": [
    "callbacks=[\n",
    "           tf.keras.callbacks.EarlyStopping(patience=5,monitor='loss'),\n",
    "         tf.keras.callbacks.ReduceLROnPlateau( monitor='loss',factor=0.1,patience=3, mode='min',min_lr=0.00001),\n",
    "        tf.keras.callbacks.ModelCheckpoint(filepath='./best_model',monitor = 'val_accuracy', save_best_only=True)\n",
    "]"
   ]
  },
  {
   "cell_type": "code",
   "execution_count": 20,
   "id": "097b754b",
   "metadata": {
    "execution": {
     "iopub.execute_input": "2022-08-14T10:04:24.696937Z",
     "iopub.status.busy": "2022-08-14T10:04:24.696683Z",
     "iopub.status.idle": "2022-08-14T10:25:33.259893Z",
     "shell.execute_reply": "2022-08-14T10:25:33.258646Z"
    },
    "papermill": {
     "duration": 1268.579208,
     "end_time": "2022-08-14T10:25:33.262797",
     "exception": false,
     "start_time": "2022-08-14T10:04:24.683589",
     "status": "completed"
    },
    "tags": []
   },
   "outputs": [
    {
     "name": "stderr",
     "output_type": "stream",
     "text": [
      "2022-08-14 10:04:26.355639: I tensorflow/compiler/mlir/mlir_graph_optimization_pass.cc:185] None of the MLIR Optimization Passes are enabled (registered 2)\n"
     ]
    },
    {
     "name": "stdout",
     "output_type": "stream",
     "text": [
      "Epoch 1/5\n"
     ]
    },
    {
     "name": "stderr",
     "output_type": "stream",
     "text": [
      "2022-08-14 10:04:30.501660: I tensorflow/stream_executor/cuda/cuda_dnn.cc:369] Loaded cuDNN version 8005\n"
     ]
    },
    {
     "name": "stdout",
     "output_type": "stream",
     "text": [
      "70/70 [==============================] - 233s 3s/step - loss: 21.9281 - accuracy: 0.9214 - val_loss: 0.6514 - val_accuracy: 1.0000\n"
     ]
    },
    {
     "name": "stderr",
     "output_type": "stream",
     "text": [
      "2022-08-14 10:08:19.680411: W tensorflow/python/util/util.cc:348] Sets are not currently considered sequences, but this may change in the future, so consider avoiding using them.\n",
      "2022-08-14 10:08:20.330166: W tensorflow/core/framework/cpu_allocator_impl.cc:80] Allocation of 2114060288 exceeds 10% of free system memory.\n",
      "2022-08-14 10:08:22.429154: W tensorflow/core/framework/cpu_allocator_impl.cc:80] Allocation of 2114060288 exceeds 10% of free system memory.\n",
      "2022-08-14 10:08:24.215029: W tensorflow/core/framework/cpu_allocator_impl.cc:80] Allocation of 2114060288 exceeds 10% of free system memory.\n"
     ]
    },
    {
     "name": "stdout",
     "output_type": "stream",
     "text": [
      "Epoch 2/5\n",
      "70/70 [==============================] - 218s 3s/step - loss: 0.6591 - accuracy: 0.9714 - val_loss: 0.6138 - val_accuracy: 0.8913\n",
      "Epoch 3/5\n",
      "70/70 [==============================] - 218s 3s/step - loss: 0.5318 - accuracy: 0.9125 - val_loss: 0.6431 - val_accuracy: 0.9837\n",
      "Epoch 4/5\n",
      "70/70 [==============================] - 216s 3s/step - loss: 0.3597 - accuracy: 0.8500 - val_loss: 0.9012 - val_accuracy: 0.9783\n",
      "Epoch 5/5\n",
      "70/70 [==============================] - 217s 3s/step - loss: 0.1550 - accuracy: 0.7661 - val_loss: 1.1656 - val_accuracy: 0.9076\n"
     ]
    }
   ],
   "source": [
    "history = model.fit(training_generator,\n",
    "          batch_size=8,\n",
    "          epochs=5,\n",
    "          validation_data = val_generator,\n",
    "          shuffle = True,\n",
    "          callbacks=callbacks)"
   ]
  },
  {
   "cell_type": "code",
   "execution_count": 21,
   "id": "0261e0fc",
   "metadata": {
    "execution": {
     "iopub.execute_input": "2022-08-14T10:25:33.327976Z",
     "iopub.status.busy": "2022-08-14T10:25:33.327622Z",
     "iopub.status.idle": "2022-08-14T10:25:33.345238Z",
     "shell.execute_reply": "2022-08-14T10:25:33.344285Z"
    },
    "papermill": {
     "duration": 0.053207,
     "end_time": "2022-08-14T10:25:33.348346",
     "exception": false,
     "start_time": "2022-08-14T10:25:33.295139",
     "status": "completed"
    },
    "tags": []
   },
   "outputs": [
    {
     "data": {
      "text/html": [
       "<div>\n",
       "<style scoped>\n",
       "    .dataframe tbody tr th:only-of-type {\n",
       "        vertical-align: middle;\n",
       "    }\n",
       "\n",
       "    .dataframe tbody tr th {\n",
       "        vertical-align: top;\n",
       "    }\n",
       "\n",
       "    .dataframe thead th {\n",
       "        text-align: right;\n",
       "    }\n",
       "</style>\n",
       "<table border=\"1\" class=\"dataframe\">\n",
       "  <thead>\n",
       "    <tr style=\"text-align: right;\">\n",
       "      <th></th>\n",
       "      <th>image_id</th>\n",
       "      <th>center_id</th>\n",
       "      <th>patient_id</th>\n",
       "      <th>image_num</th>\n",
       "    </tr>\n",
       "  </thead>\n",
       "  <tbody>\n",
       "    <tr>\n",
       "      <th>0</th>\n",
       "      <td>006388_0</td>\n",
       "      <td>11</td>\n",
       "      <td>006388</td>\n",
       "      <td>0</td>\n",
       "    </tr>\n",
       "    <tr>\n",
       "      <th>1</th>\n",
       "      <td>008e5c_0</td>\n",
       "      <td>11</td>\n",
       "      <td>008e5c</td>\n",
       "      <td>0</td>\n",
       "    </tr>\n",
       "    <tr>\n",
       "      <th>2</th>\n",
       "      <td>00c058_0</td>\n",
       "      <td>11</td>\n",
       "      <td>00c058</td>\n",
       "      <td>0</td>\n",
       "    </tr>\n",
       "    <tr>\n",
       "      <th>3</th>\n",
       "      <td>01adc5_0</td>\n",
       "      <td>11</td>\n",
       "      <td>01adc5</td>\n",
       "      <td>0</td>\n",
       "    </tr>\n",
       "  </tbody>\n",
       "</table>\n",
       "</div>"
      ],
      "text/plain": [
       "   image_id  center_id patient_id  image_num\n",
       "0  006388_0         11     006388          0\n",
       "1  008e5c_0         11     008e5c          0\n",
       "2  00c058_0         11     00c058          0\n",
       "3  01adc5_0         11     01adc5          0"
      ]
     },
     "execution_count": 21,
     "metadata": {},
     "output_type": "execute_result"
    }
   ],
   "source": [
    "test_data"
   ]
  },
  {
   "cell_type": "code",
   "execution_count": 22,
   "id": "85257018",
   "metadata": {
    "execution": {
     "iopub.execute_input": "2022-08-14T10:25:33.412694Z",
     "iopub.status.busy": "2022-08-14T10:25:33.412022Z",
     "iopub.status.idle": "2022-08-14T10:25:33.433154Z",
     "shell.execute_reply": "2022-08-14T10:25:33.432177Z"
    },
    "papermill": {
     "duration": 0.055382,
     "end_time": "2022-08-14T10:25:33.435255",
     "exception": false,
     "start_time": "2022-08-14T10:25:33.379873",
     "status": "completed"
    },
    "tags": []
   },
   "outputs": [
    {
     "data": {
      "text/html": [
       "<div>\n",
       "<style scoped>\n",
       "    .dataframe tbody tr th:only-of-type {\n",
       "        vertical-align: middle;\n",
       "    }\n",
       "\n",
       "    .dataframe tbody tr th {\n",
       "        vertical-align: top;\n",
       "    }\n",
       "\n",
       "    .dataframe thead th {\n",
       "        text-align: right;\n",
       "    }\n",
       "</style>\n",
       "<table border=\"1\" class=\"dataframe\">\n",
       "  <thead>\n",
       "    <tr style=\"text-align: right;\">\n",
       "      <th></th>\n",
       "      <th>Path</th>\n",
       "      <th>image_id</th>\n",
       "    </tr>\n",
       "  </thead>\n",
       "  <tbody>\n",
       "    <tr>\n",
       "      <th>0</th>\n",
       "      <td>../input/mayo-clinic-strip-ai/test/006388_0.tif</td>\n",
       "      <td>006388_0</td>\n",
       "    </tr>\n",
       "    <tr>\n",
       "      <th>1</th>\n",
       "      <td>../input/mayo-clinic-strip-ai/test/00c058_0.tif</td>\n",
       "      <td>00c058_0</td>\n",
       "    </tr>\n",
       "    <tr>\n",
       "      <th>2</th>\n",
       "      <td>../input/mayo-clinic-strip-ai/test/008e5c_0.tif</td>\n",
       "      <td>008e5c_0</td>\n",
       "    </tr>\n",
       "    <tr>\n",
       "      <th>3</th>\n",
       "      <td>../input/mayo-clinic-strip-ai/test/01adc5_0.tif</td>\n",
       "      <td>01adc5_0</td>\n",
       "    </tr>\n",
       "  </tbody>\n",
       "</table>\n",
       "</div>"
      ],
      "text/plain": [
       "                                              Path  image_id\n",
       "0  ../input/mayo-clinic-strip-ai/test/006388_0.tif  006388_0\n",
       "1  ../input/mayo-clinic-strip-ai/test/00c058_0.tif  00c058_0\n",
       "2  ../input/mayo-clinic-strip-ai/test/008e5c_0.tif  008e5c_0\n",
       "3  ../input/mayo-clinic-strip-ai/test/01adc5_0.tif  01adc5_0"
      ]
     },
     "execution_count": 22,
     "metadata": {},
     "output_type": "execute_result"
    }
   ],
   "source": [
    "test_path = glob.glob(\"../input/mayo-clinic-strip-ai/test/*\")\n",
    "test_df = pd.DataFrame(columns=['Path','image_id'])\n",
    "test_df['Path'] = test_path\n",
    "test_df['image_id'] = test_df['Path'].apply(lambda x: x.split('/')[-1].replace('.tif',''))\n",
    "test_df"
   ]
  },
  {
   "cell_type": "code",
   "execution_count": 23,
   "id": "7d6b65f0",
   "metadata": {
    "execution": {
     "iopub.execute_input": "2022-08-14T10:25:33.500095Z",
     "iopub.status.busy": "2022-08-14T10:25:33.499062Z",
     "iopub.status.idle": "2022-08-14T10:25:33.513744Z",
     "shell.execute_reply": "2022-08-14T10:25:33.512817Z"
    },
    "papermill": {
     "duration": 0.04889,
     "end_time": "2022-08-14T10:25:33.515701",
     "exception": false,
     "start_time": "2022-08-14T10:25:33.466811",
     "status": "completed"
    },
    "tags": []
   },
   "outputs": [
    {
     "data": {
      "text/html": [
       "<div>\n",
       "<style scoped>\n",
       "    .dataframe tbody tr th:only-of-type {\n",
       "        vertical-align: middle;\n",
       "    }\n",
       "\n",
       "    .dataframe tbody tr th {\n",
       "        vertical-align: top;\n",
       "    }\n",
       "\n",
       "    .dataframe thead th {\n",
       "        text-align: right;\n",
       "    }\n",
       "</style>\n",
       "<table border=\"1\" class=\"dataframe\">\n",
       "  <thead>\n",
       "    <tr style=\"text-align: right;\">\n",
       "      <th></th>\n",
       "      <th>image_id</th>\n",
       "      <th>center_id</th>\n",
       "      <th>patient_id</th>\n",
       "      <th>image_num</th>\n",
       "      <th>Path</th>\n",
       "    </tr>\n",
       "  </thead>\n",
       "  <tbody>\n",
       "    <tr>\n",
       "      <th>0</th>\n",
       "      <td>006388_0</td>\n",
       "      <td>11</td>\n",
       "      <td>006388</td>\n",
       "      <td>0</td>\n",
       "      <td>../input/mayo-clinic-strip-ai/test/006388_0.tif</td>\n",
       "    </tr>\n",
       "    <tr>\n",
       "      <th>1</th>\n",
       "      <td>008e5c_0</td>\n",
       "      <td>11</td>\n",
       "      <td>008e5c</td>\n",
       "      <td>0</td>\n",
       "      <td>../input/mayo-clinic-strip-ai/test/008e5c_0.tif</td>\n",
       "    </tr>\n",
       "    <tr>\n",
       "      <th>2</th>\n",
       "      <td>00c058_0</td>\n",
       "      <td>11</td>\n",
       "      <td>00c058</td>\n",
       "      <td>0</td>\n",
       "      <td>../input/mayo-clinic-strip-ai/test/00c058_0.tif</td>\n",
       "    </tr>\n",
       "    <tr>\n",
       "      <th>3</th>\n",
       "      <td>01adc5_0</td>\n",
       "      <td>11</td>\n",
       "      <td>01adc5</td>\n",
       "      <td>0</td>\n",
       "      <td>../input/mayo-clinic-strip-ai/test/01adc5_0.tif</td>\n",
       "    </tr>\n",
       "  </tbody>\n",
       "</table>\n",
       "</div>"
      ],
      "text/plain": [
       "   image_id  center_id patient_id  image_num  \\\n",
       "0  006388_0         11     006388          0   \n",
       "1  008e5c_0         11     008e5c          0   \n",
       "2  00c058_0         11     00c058          0   \n",
       "3  01adc5_0         11     01adc5          0   \n",
       "\n",
       "                                              Path  \n",
       "0  ../input/mayo-clinic-strip-ai/test/006388_0.tif  \n",
       "1  ../input/mayo-clinic-strip-ai/test/008e5c_0.tif  \n",
       "2  ../input/mayo-clinic-strip-ai/test/00c058_0.tif  \n",
       "3  ../input/mayo-clinic-strip-ai/test/01adc5_0.tif  "
      ]
     },
     "execution_count": 23,
     "metadata": {},
     "output_type": "execute_result"
    }
   ],
   "source": [
    "test_data = test_data.merge(test_df,on='image_id')\n",
    "test_data"
   ]
  },
  {
   "cell_type": "code",
   "execution_count": 24,
   "id": "201bd790",
   "metadata": {
    "execution": {
     "iopub.execute_input": "2022-08-14T10:25:33.579674Z",
     "iopub.status.busy": "2022-08-14T10:25:33.578750Z",
     "iopub.status.idle": "2022-08-14T10:25:33.583692Z",
     "shell.execute_reply": "2022-08-14T10:25:33.582820Z"
    },
    "papermill": {
     "duration": 0.038908,
     "end_time": "2022-08-14T10:25:33.585682",
     "exception": false,
     "start_time": "2022-08-14T10:25:33.546774",
     "status": "completed"
    },
    "tags": []
   },
   "outputs": [],
   "source": [
    "test_gen = DataGenerator(test_data,batch_size=1,to_fit=False)\n"
   ]
  },
  {
   "cell_type": "code",
   "execution_count": 25,
   "id": "7c92ff86",
   "metadata": {
    "execution": {
     "iopub.execute_input": "2022-08-14T10:25:33.649697Z",
     "iopub.status.busy": "2022-08-14T10:25:33.648724Z",
     "iopub.status.idle": "2022-08-14T10:25:33.653210Z",
     "shell.execute_reply": "2022-08-14T10:25:33.652358Z"
    },
    "papermill": {
     "duration": 0.038749,
     "end_time": "2022-08-14T10:25:33.655003",
     "exception": false,
     "start_time": "2022-08-14T10:25:33.616254",
     "status": "completed"
    },
    "tags": []
   },
   "outputs": [],
   "source": [
    "#from keras.models import load_model\n",
    "#saved_model = load_model('./best_model')"
   ]
  },
  {
   "cell_type": "code",
   "execution_count": 26,
   "id": "d2f007d1",
   "metadata": {
    "execution": {
     "iopub.execute_input": "2022-08-14T10:25:33.719534Z",
     "iopub.status.busy": "2022-08-14T10:25:33.718571Z",
     "iopub.status.idle": "2022-08-14T10:28:53.593677Z",
     "shell.execute_reply": "2022-08-14T10:28:53.592626Z"
    },
    "papermill": {
     "duration": 199.909731,
     "end_time": "2022-08-14T10:28:53.596386",
     "exception": false,
     "start_time": "2022-08-14T10:25:33.686655",
     "status": "completed"
    },
    "tags": []
   },
   "outputs": [
    {
     "name": "stdout",
     "output_type": "stream",
     "text": [
      "4/4 [==============================] - 126s 26s/step\n"
     ]
    }
   ],
   "source": [
    "predictions = model.predict(test_gen, verbose=1)"
   ]
  },
  {
   "cell_type": "code",
   "execution_count": 27,
   "id": "07306e37",
   "metadata": {
    "execution": {
     "iopub.execute_input": "2022-08-14T10:28:53.662589Z",
     "iopub.status.busy": "2022-08-14T10:28:53.661938Z",
     "iopub.status.idle": "2022-08-14T10:28:53.674608Z",
     "shell.execute_reply": "2022-08-14T10:28:53.673522Z"
    },
    "papermill": {
     "duration": 0.0475,
     "end_time": "2022-08-14T10:28:53.676566",
     "exception": false,
     "start_time": "2022-08-14T10:28:53.629066",
     "status": "completed"
    },
    "tags": []
   },
   "outputs": [
    {
     "data": {
      "text/html": [
       "<div>\n",
       "<style scoped>\n",
       "    .dataframe tbody tr th:only-of-type {\n",
       "        vertical-align: middle;\n",
       "    }\n",
       "\n",
       "    .dataframe tbody tr th {\n",
       "        vertical-align: top;\n",
       "    }\n",
       "\n",
       "    .dataframe thead th {\n",
       "        text-align: right;\n",
       "    }\n",
       "</style>\n",
       "<table border=\"1\" class=\"dataframe\">\n",
       "  <thead>\n",
       "    <tr style=\"text-align: right;\">\n",
       "      <th></th>\n",
       "      <th>CE</th>\n",
       "      <th>LAA</th>\n",
       "      <th>patient_id</th>\n",
       "    </tr>\n",
       "  </thead>\n",
       "  <tbody>\n",
       "    <tr>\n",
       "      <th>0</th>\n",
       "      <td>1.000000</td>\n",
       "      <td>9.159411e-09</td>\n",
       "      <td>006388</td>\n",
       "    </tr>\n",
       "    <tr>\n",
       "      <th>1</th>\n",
       "      <td>1.000000</td>\n",
       "      <td>1.864462e-07</td>\n",
       "      <td>008e5c</td>\n",
       "    </tr>\n",
       "    <tr>\n",
       "      <th>2</th>\n",
       "      <td>0.001434</td>\n",
       "      <td>9.985659e-01</td>\n",
       "      <td>00c058</td>\n",
       "    </tr>\n",
       "    <tr>\n",
       "      <th>3</th>\n",
       "      <td>0.000134</td>\n",
       "      <td>9.998661e-01</td>\n",
       "      <td>01adc5</td>\n",
       "    </tr>\n",
       "  </tbody>\n",
       "</table>\n",
       "</div>"
      ],
      "text/plain": [
       "         CE           LAA patient_id\n",
       "0  1.000000  9.159411e-09     006388\n",
       "1  1.000000  1.864462e-07     008e5c\n",
       "2  0.001434  9.985659e-01     00c058\n",
       "3  0.000134  9.998661e-01     01adc5"
      ]
     },
     "execution_count": 27,
     "metadata": {},
     "output_type": "execute_result"
    }
   ],
   "source": [
    "df_preds = pd.DataFrame(predictions, columns=[\"CE\", \"LAA\"])\n",
    "df_preds['patient_id'] = test_data['patient_id'] \n",
    "df_preds.head()"
   ]
  },
  {
   "cell_type": "code",
   "execution_count": null,
   "id": "0d0fc59a",
   "metadata": {
    "papermill": {
     "duration": 0.031051,
     "end_time": "2022-08-14T10:28:53.739922",
     "exception": false,
     "start_time": "2022-08-14T10:28:53.708871",
     "status": "completed"
    },
    "tags": []
   },
   "outputs": [],
   "source": [
    "\n"
   ]
  },
  {
   "cell_type": "code",
   "execution_count": 28,
   "id": "55360ec2",
   "metadata": {
    "execution": {
     "iopub.execute_input": "2022-08-14T10:28:53.833766Z",
     "iopub.status.busy": "2022-08-14T10:28:53.829595Z",
     "iopub.status.idle": "2022-08-14T10:28:53.872405Z",
     "shell.execute_reply": "2022-08-14T10:28:53.870581Z"
    },
    "papermill": {
     "duration": 0.104129,
     "end_time": "2022-08-14T10:28:53.875027",
     "exception": false,
     "start_time": "2022-08-14T10:28:53.770898",
     "status": "completed"
    },
    "tags": []
   },
   "outputs": [
    {
     "data": {
      "text/html": [
       "<div>\n",
       "<style scoped>\n",
       "    .dataframe tbody tr th:only-of-type {\n",
       "        vertical-align: middle;\n",
       "    }\n",
       "\n",
       "    .dataframe tbody tr th {\n",
       "        vertical-align: top;\n",
       "    }\n",
       "\n",
       "    .dataframe thead th {\n",
       "        text-align: right;\n",
       "    }\n",
       "</style>\n",
       "<table border=\"1\" class=\"dataframe\">\n",
       "  <thead>\n",
       "    <tr style=\"text-align: right;\">\n",
       "      <th></th>\n",
       "      <th>patient_id</th>\n",
       "      <th>CE</th>\n",
       "      <th>LAA</th>\n",
       "    </tr>\n",
       "  </thead>\n",
       "  <tbody>\n",
       "    <tr>\n",
       "      <th>0</th>\n",
       "      <td>006388</td>\n",
       "      <td>1.000000</td>\n",
       "      <td>9.159411e-09</td>\n",
       "    </tr>\n",
       "    <tr>\n",
       "      <th>1</th>\n",
       "      <td>008e5c</td>\n",
       "      <td>1.000000</td>\n",
       "      <td>1.864462e-07</td>\n",
       "    </tr>\n",
       "    <tr>\n",
       "      <th>2</th>\n",
       "      <td>00c058</td>\n",
       "      <td>0.001434</td>\n",
       "      <td>9.985659e-01</td>\n",
       "    </tr>\n",
       "    <tr>\n",
       "      <th>3</th>\n",
       "      <td>01adc5</td>\n",
       "      <td>0.000134</td>\n",
       "      <td>9.998661e-01</td>\n",
       "    </tr>\n",
       "  </tbody>\n",
       "</table>\n",
       "</div>"
      ],
      "text/plain": [
       "  patient_id        CE           LAA\n",
       "0     006388  1.000000  9.159411e-09\n",
       "1     008e5c  1.000000  1.864462e-07\n",
       "2     00c058  0.001434  9.985659e-01\n",
       "3     01adc5  0.000134  9.998661e-01"
      ]
     },
     "execution_count": 28,
     "metadata": {},
     "output_type": "execute_result"
    }
   ],
   "source": [
    "sub = {'patient_id':df_preds['patient_id'],'CE': df_preds['CE'],'LAA':df_preds['LAA']}\n",
    "submission = pd.DataFrame(sub)\n",
    "submission = submission.groupby(\"patient_id\").mean().reset_index()\n",
    "submission"
   ]
  },
  {
   "cell_type": "code",
   "execution_count": 29,
   "id": "a1b9705a",
   "metadata": {
    "execution": {
     "iopub.execute_input": "2022-08-14T10:28:53.977516Z",
     "iopub.status.busy": "2022-08-14T10:28:53.976645Z",
     "iopub.status.idle": "2022-08-14T10:28:55.295244Z",
     "shell.execute_reply": "2022-08-14T10:28:55.293990Z"
    },
    "papermill": {
     "duration": 1.369091,
     "end_time": "2022-08-14T10:28:55.298073",
     "exception": false,
     "start_time": "2022-08-14T10:28:53.928982",
     "status": "completed"
    },
    "tags": []
   },
   "outputs": [
    {
     "name": "stdout",
     "output_type": "stream",
     "text": [
      "patient_id,CE,LAA\r\n",
      "006388,1.0,9.159411e-09\r\n",
      "008e5c,0.99999976,1.8644619e-07\r\n",
      "00c058,0.0014341802,0.99856585\r\n",
      "01adc5,0.0001338474,0.9998661\r\n"
     ]
    }
   ],
   "source": [
    "submission[[\"patient_id\", \"CE\", \"LAA\"]].to_csv(\"/kaggle/working/submission.csv\", index=False)\n",
    "\n",
    "\n",
    "\n",
    "!head submission.csv"
   ]
  },
  {
   "cell_type": "code",
   "execution_count": null,
   "id": "c11d8c57",
   "metadata": {
    "papermill": {
     "duration": 0.032055,
     "end_time": "2022-08-14T10:28:55.362662",
     "exception": false,
     "start_time": "2022-08-14T10:28:55.330607",
     "status": "completed"
    },
    "tags": []
   },
   "outputs": [],
   "source": []
  }
 ],
 "metadata": {
  "kernelspec": {
   "display_name": "Python 3",
   "language": "python",
   "name": "python3"
  },
  "language_info": {
   "codemirror_mode": {
    "name": "ipython",
    "version": 3
   },
   "file_extension": ".py",
   "mimetype": "text/x-python",
   "name": "python",
   "nbconvert_exporter": "python",
   "pygments_lexer": "ipython3",
   "version": "3.7.12"
  },
  "papermill": {
   "default_parameters": {},
   "duration": 1534.013933,
   "end_time": "2022-08-14T10:28:59.057897",
   "environment_variables": {},
   "exception": null,
   "input_path": "__notebook__.ipynb",
   "output_path": "__notebook__.ipynb",
   "parameters": {},
   "start_time": "2022-08-14T10:03:25.043964",
   "version": "2.3.4"
  }
 },
 "nbformat": 4,
 "nbformat_minor": 5
}
